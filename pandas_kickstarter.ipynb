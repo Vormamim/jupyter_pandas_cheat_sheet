import pandas as pd
import numpy as np

#import csv-File in dataframe df
df = pd.read_csv('Data/IMDB_Movie_Data.csv' ,sep=",") 
df

#export dataframe df to csv file my-data
df.to_csv ('Data/my-data.csv' , index = False, header=True) 
