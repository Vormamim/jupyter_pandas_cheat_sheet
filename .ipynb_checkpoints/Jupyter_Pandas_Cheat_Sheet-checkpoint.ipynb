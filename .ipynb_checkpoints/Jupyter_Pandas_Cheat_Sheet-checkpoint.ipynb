{
 "cells": [
  {
   "cell_type": "markdown",
   "metadata": {
    "colab_type": "text",
    "id": "eGpLyiQesE1l"
   },
   "source": [
    "# Jupyter Pandas Cheat Sheet"
   ]
  },
  {
   "cell_type": "code",
   "execution_count": 12,
   "metadata": {
    "colab": {},
    "colab_type": "code",
    "id": "SVrBJR3JsE1q"
   },
   "outputs": [],
   "source": [
    "import pandas as pd\n",
    "import numpy as np\n"
   ]
  },
  {
   "cell_type": "code",
   "execution_count": 13,
   "metadata": {
    "colab": {},
    "colab_type": "code",
    "id": "tO_6cEhdsE1m"
   },
   "outputs": [
    {
     "data": {
      "text/html": [
       "<div>\n",
       "<style scoped>\n",
       "    .dataframe tbody tr th:only-of-type {\n",
       "        vertical-align: middle;\n",
       "    }\n",
       "\n",
       "    .dataframe tbody tr th {\n",
       "        vertical-align: top;\n",
       "    }\n",
       "\n",
       "    .dataframe thead th {\n",
       "        text-align: right;\n",
       "    }\n",
       "</style>\n",
       "<table border=\"1\" class=\"dataframe\">\n",
       "  <thead>\n",
       "    <tr style=\"text-align: right;\">\n",
       "      <th></th>\n",
       "      <th>Title</th>\n",
       "      <th>Genre</th>\n",
       "      <th>Description</th>\n",
       "      <th>Director</th>\n",
       "      <th>Actors</th>\n",
       "      <th>Year</th>\n",
       "      <th>Runtime (Minutes)</th>\n",
       "      <th>Rating</th>\n",
       "      <th>Votes</th>\n",
       "      <th>Revenue (Millions)</th>\n",
       "      <th>Metascore</th>\n",
       "    </tr>\n",
       "  </thead>\n",
       "  <tbody>\n",
       "    <tr>\n",
       "      <th>0</th>\n",
       "      <td>Guardians of the Galaxy</td>\n",
       "      <td>Action,Adventure,Sci-Fi</td>\n",
       "      <td>A group of intergalactic criminals are forced ...</td>\n",
       "      <td>James Gunn</td>\n",
       "      <td>Chris Pratt, Vin Diesel, Bradley Cooper, Zoe S...</td>\n",
       "      <td>2014</td>\n",
       "      <td>121</td>\n",
       "      <td>8.1</td>\n",
       "      <td>757074</td>\n",
       "      <td>333.13</td>\n",
       "      <td>76.0</td>\n",
       "    </tr>\n",
       "    <tr>\n",
       "      <th>1</th>\n",
       "      <td>Prometheus</td>\n",
       "      <td>Adventure,Mystery,Sci-Fi</td>\n",
       "      <td>Following clues to the origin of mankind, a te...</td>\n",
       "      <td>Ridley Scott</td>\n",
       "      <td>Noomi Rapace, Logan Marshall-Green, Michael Fa...</td>\n",
       "      <td>2012</td>\n",
       "      <td>124</td>\n",
       "      <td>7.0</td>\n",
       "      <td>485820</td>\n",
       "      <td>126.46</td>\n",
       "      <td>65.0</td>\n",
       "    </tr>\n",
       "    <tr>\n",
       "      <th>2</th>\n",
       "      <td>Split</td>\n",
       "      <td>Horror,Thriller</td>\n",
       "      <td>Three girls are kidnapped by a man with a diag...</td>\n",
       "      <td>M. Night Shyamalan</td>\n",
       "      <td>James McAvoy, Anya Taylor-Joy, Haley Lu Richar...</td>\n",
       "      <td>2016</td>\n",
       "      <td>117</td>\n",
       "      <td>7.3</td>\n",
       "      <td>157606</td>\n",
       "      <td>138.12</td>\n",
       "      <td>62.0</td>\n",
       "    </tr>\n",
       "    <tr>\n",
       "      <th>3</th>\n",
       "      <td>Sing</td>\n",
       "      <td>Animation,Comedy,Family</td>\n",
       "      <td>In a city of humanoid animals, a hustling thea...</td>\n",
       "      <td>Christophe Lourdelet</td>\n",
       "      <td>Matthew McConaughey,Reese Witherspoon, Seth Ma...</td>\n",
       "      <td>2016</td>\n",
       "      <td>108</td>\n",
       "      <td>7.2</td>\n",
       "      <td>60545</td>\n",
       "      <td>270.32</td>\n",
       "      <td>59.0</td>\n",
       "    </tr>\n",
       "    <tr>\n",
       "      <th>4</th>\n",
       "      <td>Suicide Squad</td>\n",
       "      <td>Action,Adventure,Fantasy</td>\n",
       "      <td>A secret government agency recruits some of th...</td>\n",
       "      <td>David Ayer</td>\n",
       "      <td>Will Smith, Jared Leto, Margot Robbie, Viola D...</td>\n",
       "      <td>2016</td>\n",
       "      <td>123</td>\n",
       "      <td>6.2</td>\n",
       "      <td>393727</td>\n",
       "      <td>325.02</td>\n",
       "      <td>40.0</td>\n",
       "    </tr>\n",
       "    <tr>\n",
       "      <th>...</th>\n",
       "      <td>...</td>\n",
       "      <td>...</td>\n",
       "      <td>...</td>\n",
       "      <td>...</td>\n",
       "      <td>...</td>\n",
       "      <td>...</td>\n",
       "      <td>...</td>\n",
       "      <td>...</td>\n",
       "      <td>...</td>\n",
       "      <td>...</td>\n",
       "      <td>...</td>\n",
       "    </tr>\n",
       "    <tr>\n",
       "      <th>995</th>\n",
       "      <td>Secret in Their Eyes</td>\n",
       "      <td>Crime,Drama,Mystery</td>\n",
       "      <td>A tight-knit team of rising investigators, alo...</td>\n",
       "      <td>Billy Ray</td>\n",
       "      <td>Chiwetel Ejiofor, Nicole Kidman, Julia Roberts...</td>\n",
       "      <td>2015</td>\n",
       "      <td>111</td>\n",
       "      <td>6.2</td>\n",
       "      <td>27585</td>\n",
       "      <td>NaN</td>\n",
       "      <td>45.0</td>\n",
       "    </tr>\n",
       "    <tr>\n",
       "      <th>996</th>\n",
       "      <td>Hostel: Part II</td>\n",
       "      <td>Horror</td>\n",
       "      <td>Three American college students studying abroa...</td>\n",
       "      <td>Eli Roth</td>\n",
       "      <td>Lauren German, Heather Matarazzo, Bijou Philli...</td>\n",
       "      <td>2007</td>\n",
       "      <td>94</td>\n",
       "      <td>5.5</td>\n",
       "      <td>73152</td>\n",
       "      <td>17.54</td>\n",
       "      <td>46.0</td>\n",
       "    </tr>\n",
       "    <tr>\n",
       "      <th>997</th>\n",
       "      <td>Step Up 2: The Streets</td>\n",
       "      <td>Drama,Music,Romance</td>\n",
       "      <td>Romantic sparks occur between two dance studen...</td>\n",
       "      <td>Jon M. Chu</td>\n",
       "      <td>Robert Hoffman, Briana Evigan, Cassie Ventura,...</td>\n",
       "      <td>2008</td>\n",
       "      <td>98</td>\n",
       "      <td>6.2</td>\n",
       "      <td>70699</td>\n",
       "      <td>58.01</td>\n",
       "      <td>50.0</td>\n",
       "    </tr>\n",
       "    <tr>\n",
       "      <th>998</th>\n",
       "      <td>Search Party</td>\n",
       "      <td>Adventure,Comedy</td>\n",
       "      <td>A pair of friends embark on a mission to reuni...</td>\n",
       "      <td>Scot Armstrong</td>\n",
       "      <td>Adam Pally, T.J. Miller, Thomas Middleditch,Sh...</td>\n",
       "      <td>2014</td>\n",
       "      <td>93</td>\n",
       "      <td>5.6</td>\n",
       "      <td>4881</td>\n",
       "      <td>NaN</td>\n",
       "      <td>22.0</td>\n",
       "    </tr>\n",
       "    <tr>\n",
       "      <th>999</th>\n",
       "      <td>Nine Lives</td>\n",
       "      <td>Comedy,Family,Fantasy</td>\n",
       "      <td>A stuffy businessman finds himself trapped ins...</td>\n",
       "      <td>Barry Sonnenfeld</td>\n",
       "      <td>Kevin Spacey, Jennifer Garner, Robbie Amell,Ch...</td>\n",
       "      <td>2016</td>\n",
       "      <td>87</td>\n",
       "      <td>5.3</td>\n",
       "      <td>12435</td>\n",
       "      <td>19.64</td>\n",
       "      <td>11.0</td>\n",
       "    </tr>\n",
       "  </tbody>\n",
       "</table>\n",
       "<p>1000 rows × 11 columns</p>\n",
       "</div>"
      ],
      "text/plain": [
       "                       Title                     Genre  \\\n",
       "0    Guardians of the Galaxy   Action,Adventure,Sci-Fi   \n",
       "1                 Prometheus  Adventure,Mystery,Sci-Fi   \n",
       "2                      Split           Horror,Thriller   \n",
       "3                       Sing   Animation,Comedy,Family   \n",
       "4              Suicide Squad  Action,Adventure,Fantasy   \n",
       "..                       ...                       ...   \n",
       "995     Secret in Their Eyes       Crime,Drama,Mystery   \n",
       "996          Hostel: Part II                    Horror   \n",
       "997   Step Up 2: The Streets       Drama,Music,Romance   \n",
       "998             Search Party          Adventure,Comedy   \n",
       "999               Nine Lives     Comedy,Family,Fantasy   \n",
       "\n",
       "                                           Description              Director  \\\n",
       "0    A group of intergalactic criminals are forced ...            James Gunn   \n",
       "1    Following clues to the origin of mankind, a te...          Ridley Scott   \n",
       "2    Three girls are kidnapped by a man with a diag...    M. Night Shyamalan   \n",
       "3    In a city of humanoid animals, a hustling thea...  Christophe Lourdelet   \n",
       "4    A secret government agency recruits some of th...            David Ayer   \n",
       "..                                                 ...                   ...   \n",
       "995  A tight-knit team of rising investigators, alo...             Billy Ray   \n",
       "996  Three American college students studying abroa...              Eli Roth   \n",
       "997  Romantic sparks occur between two dance studen...            Jon M. Chu   \n",
       "998  A pair of friends embark on a mission to reuni...        Scot Armstrong   \n",
       "999  A stuffy businessman finds himself trapped ins...      Barry Sonnenfeld   \n",
       "\n",
       "                                                Actors  Year  \\\n",
       "0    Chris Pratt, Vin Diesel, Bradley Cooper, Zoe S...  2014   \n",
       "1    Noomi Rapace, Logan Marshall-Green, Michael Fa...  2012   \n",
       "2    James McAvoy, Anya Taylor-Joy, Haley Lu Richar...  2016   \n",
       "3    Matthew McConaughey,Reese Witherspoon, Seth Ma...  2016   \n",
       "4    Will Smith, Jared Leto, Margot Robbie, Viola D...  2016   \n",
       "..                                                 ...   ...   \n",
       "995  Chiwetel Ejiofor, Nicole Kidman, Julia Roberts...  2015   \n",
       "996  Lauren German, Heather Matarazzo, Bijou Philli...  2007   \n",
       "997  Robert Hoffman, Briana Evigan, Cassie Ventura,...  2008   \n",
       "998  Adam Pally, T.J. Miller, Thomas Middleditch,Sh...  2014   \n",
       "999  Kevin Spacey, Jennifer Garner, Robbie Amell,Ch...  2016   \n",
       "\n",
       "     Runtime (Minutes)  Rating   Votes  Revenue (Millions)  Metascore  \n",
       "0                  121     8.1  757074              333.13       76.0  \n",
       "1                  124     7.0  485820              126.46       65.0  \n",
       "2                  117     7.3  157606              138.12       62.0  \n",
       "3                  108     7.2   60545              270.32       59.0  \n",
       "4                  123     6.2  393727              325.02       40.0  \n",
       "..                 ...     ...     ...                 ...        ...  \n",
       "995                111     6.2   27585                 NaN       45.0  \n",
       "996                 94     5.5   73152               17.54       46.0  \n",
       "997                 98     6.2   70699               58.01       50.0  \n",
       "998                 93     5.6    4881                 NaN       22.0  \n",
       "999                 87     5.3   12435               19.64       11.0  \n",
       "\n",
       "[1000 rows x 11 columns]"
      ]
     },
     "execution_count": 13,
     "metadata": {},
     "output_type": "execute_result"
    }
   ],
   "source": [
    "df = pd.read_csv('Data/IMDB_Movie_Data.csv' ,sep=\",\") \n",
    "df"
   ]
  },
  {
   "cell_type": "markdown",
   "metadata": {
    "colab_type": "text",
    "id": "KtiW_1wxsE1s"
   },
   "source": [
    "## Exploring Data"
   ]
  },
  {
   "cell_type": "code",
   "execution_count": null,
   "metadata": {
    "colab": {},
    "colab_type": "code",
    "id": "uJWkNfh2sE1s"
   },
   "outputs": [],
   "source": [
    "df.head()       # first five rows"
   ]
  },
  {
   "cell_type": "code",
   "execution_count": null,
   "metadata": {
    "colab": {},
    "colab_type": "code",
    "id": "vDyoflvZsE1u"
   },
   "outputs": [],
   "source": [
    "df.tail()       # last five rows"
   ]
  },
  {
   "cell_type": "code",
   "execution_count": null,
   "metadata": {
    "colab": {},
    "colab_type": "code",
    "id": "m5t3UARWsE1w"
   },
   "outputs": [],
   "source": [
    "df.sample(5)    # random sample of rows"
   ]
  },
  {
   "cell_type": "code",
   "execution_count": null,
   "metadata": {
    "colab": {},
    "colab_type": "code",
    "id": "yrqiw0uvsE1y"
   },
   "outputs": [],
   "source": [
    "df.shape        # number of rows/columns "
   ]
  },
  {
   "cell_type": "code",
   "execution_count": null,
   "metadata": {
    "colab": {},
    "colab_type": "code",
    "id": "v9BHlaDPsE10"
   },
   "outputs": [],
   "source": [
    "df.describe()   # calculates measures of central tendency"
   ]
  },
  {
   "cell_type": "code",
   "execution_count": null,
   "metadata": {
    "colab": {},
    "colab_type": "code",
    "id": "jMcHtE1osE13"
   },
   "outputs": [],
   "source": [
    "df.info()       # memory footprint and datatypes"
   ]
  },
  {
   "cell_type": "markdown",
   "metadata": {
    "colab_type": "text",
    "id": "YPuaU6WwsE15"
   },
   "source": [
    "## Statistics"
   ]
  },
  {
   "cell_type": "code",
   "execution_count": null,
   "metadata": {
    "colab": {},
    "colab_type": "code",
    "id": "7ew_en0gsE15"
   },
   "outputs": [],
   "source": [
    "df.describe() # Summary statistics for numerical columns"
   ]
  },
  {
   "cell_type": "code",
   "execution_count": null,
   "metadata": {
    "colab": {},
    "colab_type": "code",
    "id": "dRrUEE9YsE17"
   },
   "outputs": [],
   "source": [
    "df.mean() # Returns the mean of all columns"
   ]
  },
  {
   "cell_type": "code",
   "execution_count": null,
   "metadata": {
    "colab": {},
    "colab_type": "code",
    "id": "uueSfSDFsE19"
   },
   "outputs": [],
   "source": [
    "df.corr() # Returns the correlation between columns in a DataFrame"
   ]
  },
  {
   "cell_type": "code",
   "execution_count": null,
   "metadata": {
    "colab": {},
    "colab_type": "code",
    "id": "8ZB5LapYsE1_"
   },
   "outputs": [],
   "source": [
    "df.count() # Returns the number of non-null values in each DataFrame column"
   ]
  },
  {
   "cell_type": "code",
   "execution_count": null,
   "metadata": {
    "colab": {},
    "colab_type": "code",
    "id": "h6m178QesE2B"
   },
   "outputs": [],
   "source": [
    "df.max()  # Returns the highest value in each column"
   ]
  },
  {
   "cell_type": "code",
   "execution_count": null,
   "metadata": {
    "colab": {},
    "colab_type": "code",
    "id": "ZIg1QIK0sE2C"
   },
   "outputs": [],
   "source": [
    "df.min() # Returns the lowest value in each column"
   ]
  },
  {
   "cell_type": "code",
   "execution_count": null,
   "metadata": {
    "colab": {},
    "colab_type": "code",
    "id": "Px7XngZ6sE2E"
   },
   "outputs": [],
   "source": [
    "df.median() # Returns the median of each column"
   ]
  },
  {
   "cell_type": "code",
   "execution_count": null,
   "metadata": {
    "colab": {},
    "colab_type": "code",
    "id": "lPmwUgyksE2G"
   },
   "outputs": [],
   "source": [
    "df.std() # Returns the standard deviation of each column"
   ]
  },
  {
   "cell_type": "markdown",
   "metadata": {
    "colab_type": "text",
    "id": "-N0ekDdYsE2J"
   },
   "source": [
    "## Import Data from Files"
   ]
  },
  {
   "cell_type": "markdown",
   "metadata": {
    "colab_type": "text",
    "id": "3bNwNxZFsE2M"
   },
   "source": [
    "### Import csv"
   ]
  },
  {
   "cell_type": "code",
   "execution_count": null,
   "metadata": {
    "colab": {},
    "colab_type": "code",
    "id": "punCTVKNsE2M"
   },
   "outputs": [],
   "source": [
    "df = pd.read_csv('Data/my-data.csv' ,sep=\",\") \n",
    "df"
   ]
  },
  {
   "cell_type": "markdown",
   "metadata": {
    "colab_type": "text",
    "id": "17hb5hr-sE2O"
   },
   "source": [
    "### Import xls"
   ]
  },
  {
   "cell_type": "code",
   "execution_count": null,
   "metadata": {
    "colab": {},
    "colab_type": "code",
    "id": "4JgXDDz4sE2O"
   },
   "outputs": [],
   "source": [
    "df = pd.read_excel('Data/my-data.xlsx')"
   ]
  },
  {
   "cell_type": "code",
   "execution_count": null,
   "metadata": {
    "colab": {},
    "colab_type": "code",
    "id": "-oMscaGJsE2Q"
   },
   "outputs": [],
   "source": [
    "df = pd.read_excel('Data/my-data.xlsx',\n",
    "    sheetname='sheet1',\n",
    "    skiprows=[1] # header data\n",
    ")"
   ]
  },
  {
   "cell_type": "markdown",
   "metadata": {
    "colab_type": "text",
    "id": "nQFG9M9JsE2W"
   },
   "source": [
    "### Import MySQL"
   ]
  },
  {
   "cell_type": "code",
   "execution_count": null,
   "metadata": {
    "colab": {},
    "colab_type": "code",
    "id": "poN7A2DssE2X"
   },
   "outputs": [],
   "source": [
    "import pymysql\n",
    "\n",
    "conn = pymysql.connect(host='localhost',port=3306, db='database',user='root',password='pw')\n",
    "\n",
    "df = pd.read_sql_query(\n",
    "\"SELECT * FROM table LIMIT 3;\",\n",
    "    conn)\n",
    "df.tail(100)"
   ]
  },
  {
   "cell_type": "markdown",
   "metadata": {
    "colab_type": "text",
    "id": "a7sMzBQxsE2Z"
   },
   "source": [
    "### Import Teradata"
   ]
  },
  {
   "cell_type": "code",
   "execution_count": null,
   "metadata": {
    "colab": {},
    "colab_type": "code",
    "id": "PngIk7kVsE2Z"
   },
   "outputs": [],
   "source": [
    "import teradata\n",
    " \n",
    "#Make a connection\n",
    "session = udaExec.connect(method=\"odbc\",\n",
    "                          USEREGIONALSETTINGS=\"N\",\n",
    "                          system= \"dwhpprd\",\n",
    "                          username = \"root\",\n",
    "                          password = \"password\");  \n",
    "query = \"SELECT * FROM DATABASEX.TABLENAMEX\"\n",
    "#Reading query to df\n",
    "df = pd.read_sql(query,session)\n",
    "# do something with df,e.g.\n",
    "print(df.head()) #to see the first 5 rows"
   ]
  },
  {
   "cell_type": "markdown",
   "metadata": {
    "colab_type": "text",
    "id": "cmuj6k1wsE2b"
   },
   "source": [
    "### Import SAP-Hana"
   ]
  },
  {
   "cell_type": "code",
   "execution_count": null,
   "metadata": {
    "colab": {},
    "colab_type": "code",
    "id": "uHPjWMG9sE2b"
   },
   "outputs": [],
   "source": [
    "import pyhdb\n",
    " \n",
    "connection = pyhdb.connect(\n",
    "    host=\"sg006134.corproot.net\",\n",
    "    port=30015,\n",
    "    user=\"HDB_REPORT_SHOP_CO_OUT\",\n",
    "    password=\"INts%8\\[Sw.N\"\n",
    ")\n",
    "print(connection.isconnected())\n",
    "query = \"SELECT * FROM HDB_REPORT_SHOP_CO_OUT.\\\"01_SWISSCOM.SC_REPORT.SHOP_CO_OUT::pex_sd_faktura\\\"\"\n",
    "df = pd.read_sql(query,connection)\n",
    "# do something with df,e.g.\n",
    "print(df.head()) #to see the first 5 rows"
   ]
  },
  {
   "cell_type": "markdown",
   "metadata": {
    "colab_type": "text",
    "id": "KGdnWYXIsE2d"
   },
   "source": [
    "## Export Data"
   ]
  },
  {
   "cell_type": "markdown",
   "metadata": {
    "colab_type": "text",
    "id": "hlgqYQZhsE2d"
   },
   "source": [
    "### Export xls"
   ]
  },
  {
   "cell_type": "code",
   "execution_count": null,
   "metadata": {
    "colab": {},
    "colab_type": "code",
    "id": "LUAsvjKZsE2e"
   },
   "outputs": [],
   "source": [
    "df.to_excel('Data/my-data_V2.xlsx')"
   ]
  },
  {
   "cell_type": "markdown",
   "metadata": {
    "colab_type": "text",
    "id": "qFzqP8c8sE2f"
   },
   "source": [
    "### Export csv"
   ]
  },
  {
   "cell_type": "code",
   "execution_count": null,
   "metadata": {
    "colab": {},
    "colab_type": "code",
    "id": "gBPvJyAbsE2h"
   },
   "outputs": [],
   "source": [
    "df.to_csv ('Data/my-data_V2.csv' , index = False, header=True) "
   ]
  },
  {
   "cell_type": "markdown",
   "metadata": {
    "colab_type": "text",
    "id": "dScpc1xWsE2k"
   },
   "source": [
    "## Column manipulation"
   ]
  },
  {
   "cell_type": "markdown",
   "metadata": {
    "colab_type": "text",
    "id": "zczOiOMtsE2k"
   },
   "source": [
    "### Column Filter"
   ]
  },
  {
   "cell_type": "code",
   "execution_count": null,
   "metadata": {
    "colab": {},
    "colab_type": "code",
    "id": "N8fSKV_vsE2k"
   },
   "outputs": [],
   "source": [
    "df[['Title','Rating']]"
   ]
  },
  {
   "cell_type": "code",
   "execution_count": null,
   "metadata": {
    "colab": {},
    "colab_type": "code",
    "id": "WqZzxMT5sE2m"
   },
   "outputs": [],
   "source": [
    "df.filter(['Title','Rating'])"
   ]
  },
  {
   "cell_type": "markdown",
   "metadata": {
    "colab_type": "text",
    "id": "cg5pOH55sE2n"
   },
   "source": [
    "### Column Rename"
   ]
  },
  {
   "cell_type": "code",
   "execution_count": null,
   "metadata": {
    "colab": {},
    "colab_type": "code",
    "id": "88upHmHCsE2o"
   },
   "outputs": [],
   "source": [
    "df.rename(columns={'Title': 'a', 'Rating': 'c'},inplace=True))"
   ]
  },
  {
   "cell_type": "markdown",
   "metadata": {
    "colab_type": "text",
    "id": "hjNOG-w7sE2p"
   },
   "source": [
    "### Column Resorter/Reorder"
   ]
  },
  {
   "cell_type": "code",
   "execution_count": 15,
   "metadata": {
    "colab": {},
    "colab_type": "code",
    "id": "HDyCgSbdsE2q"
   },
   "outputs": [
    {
     "data": {
      "text/plain": [
       "array(['Title', 'Genre', 'Description', 'Director', 'Actors', 'Year',\n",
       "       'Runtime (Minutes)', 'Rating', 'Votes', 'Revenue (Millions)',\n",
       "       'Metascore'], dtype=object)"
      ]
     },
     "execution_count": 15,
     "metadata": {},
     "output_type": "execute_result"
    }
   ],
   "source": [
    "# show column values\n",
    "df.columns.values"
   ]
  },
  {
   "cell_type": "code",
   "execution_count": null,
   "metadata": {
    "colab": {},
    "colab_type": "code",
    "id": "9QrawGlpsE2r"
   },
   "outputs": [],
   "source": [
    "# reorder Rating after Title\n",
    "df[['Title', 'Rating','Genre', 'Description', 'Director', 'Actors', 'Year',\n",
    "       'Runtime (Minutes)',  'Votes', 'Revenue (Millions)',\n",
    "       'Metascore']]"
   ]
  },
  {
   "cell_type": "markdown",
   "metadata": {
    "colab_type": "text",
    "id": "wDsdCl7IsE2t"
   },
   "source": [
    "### Constant Value Column"
   ]
  },
  {
   "cell_type": "code",
   "execution_count": null,
   "metadata": {
    "colab": {},
    "colab_type": "code",
    "id": "3nsBM-pbsE2u"
   },
   "outputs": [],
   "source": [
    "df['new_column'] = 23\n",
    "df.head()"
   ]
  },
  {
   "cell_type": "markdown",
   "metadata": {
    "colab_type": "text",
    "id": "m_81lVSJsE2v"
   },
   "source": [
    "### Math Formula"
   ]
  },
  {
   "cell_type": "code",
   "execution_count": null,
   "metadata": {
    "colab": {},
    "colab_type": "code",
    "id": "nj02P_uasE2v"
   },
   "outputs": [],
   "source": [
    "df['Rating_Votes'] = df.Rating + df.Votes\n",
    "df[['Rating_Votes','Rating','Votes']].head()"
   ]
  },
  {
   "cell_type": "markdown",
   "metadata": {
    "colab_type": "text",
    "id": "QvH6ybhmsE2x"
   },
   "source": [
    "### Number to String"
   ]
  },
  {
   "cell_type": "code",
   "execution_count": null,
   "metadata": {
    "colab": {},
    "colab_type": "code",
    "id": "jINtjjg9sE2x"
   },
   "outputs": [],
   "source": [
    "df['Year_str'] =df['Year'].astype(str)\n",
    "df.info()"
   ]
  },
  {
   "cell_type": "markdown",
   "metadata": {
    "colab_type": "text",
    "id": "BWvNF6SesE2z"
   },
   "source": [
    "### String to Number"
   ]
  },
  {
   "cell_type": "code",
   "execution_count": null,
   "metadata": {
    "colab": {},
    "colab_type": "code",
    "id": "d1LDvAkmsE2z"
   },
   "outputs": [],
   "source": [
    "df['Year_int'] =df['Year_str'].astype(int)\n",
    "df.info()"
   ]
  },
  {
   "cell_type": "markdown",
   "metadata": {
    "colab_type": "text",
    "id": "oPDHKK_1sE21"
   },
   "source": [
    "### Double to Int"
   ]
  },
  {
   "cell_type": "code",
   "execution_count": null,
   "metadata": {
    "colab": {},
    "colab_type": "code",
    "id": "rbEyse0SsE22"
   },
   "outputs": [],
   "source": [
    "df['Rating_int'] = df['Rating'].round(0).astype(int)\n",
    "df[['Rating_int','Rating']].head()"
   ]
  },
  {
   "cell_type": "markdown",
   "metadata": {
    "colab_type": "text",
    "id": "H6bIYx9DsE23"
   },
   "source": [
    "### String Replacer"
   ]
  },
  {
   "cell_type": "code",
   "execution_count": null,
   "metadata": {
    "colab": {},
    "colab_type": "code",
    "id": "P749L9kAsE24"
   },
   "outputs": [],
   "source": [
    "df['Title'].replace('Prometheus', 'Alien') \n"
   ]
  },
  {
   "cell_type": "markdown",
   "metadata": {
    "colab_type": "text",
    "id": "yEYKAszdsE26"
   },
   "source": [
    "### String Manipulate"
   ]
  },
  {
   "cell_type": "code",
   "execution_count": null,
   "metadata": {
    "colab": {},
    "colab_type": "code",
    "id": "KTZDcHvSsE26"
   },
   "outputs": [],
   "source": [
    "# lower\n",
    "df['Title2'] = df['Title'].str.lower()\n",
    "df[['Title2','Title']].head()"
   ]
  },
  {
   "cell_type": "code",
   "execution_count": null,
   "metadata": {
    "colab": {},
    "colab_type": "code",
    "id": "y74_9grxsE28"
   },
   "outputs": [],
   "source": [
    "# upper\n",
    "df['Title2'] = df['Title'].str.upper() \n",
    "df[['Title2','Title']].head()"
   ]
  },
  {
   "cell_type": "code",
   "execution_count": null,
   "metadata": {
    "colab": {},
    "colab_type": "code",
    "id": "wcJphfKksE2-"
   },
   "outputs": [],
   "source": [
    "# length\n",
    "df['Title2'] = df['Title'].str.len() \n",
    "df[['Title2','Title']].head()"
   ]
  },
  {
   "cell_type": "code",
   "execution_count": null,
   "metadata": {
    "colab": {},
    "colab_type": "code",
    "id": "IGQPasBnsE3A"
   },
   "outputs": [],
   "source": [
    "# first Word\n",
    "df['Title2'] = df['Title'].str.split(' ').str[0]\n",
    "df[['Title2','Title']].head()"
   ]
  },
  {
   "cell_type": "code",
   "execution_count": null,
   "metadata": {
    "colab": {},
    "colab_type": "code",
    "id": "DtqGVu7vsE3B"
   },
   "outputs": [],
   "source": [
    "df['Title2'] = df['Title'].str.find('Squad', 0) \n",
    "df[['Title2','Title']].head()"
   ]
  },
  {
   "cell_type": "markdown",
   "metadata": {
    "colab_type": "text",
    "id": "iTUcV4A0sE3C"
   },
   "source": [
    "### Date manipulation"
   ]
  },
  {
   "cell_type": "code",
   "execution_count": null,
   "metadata": {
    "colab": {},
    "colab_type": "code",
    "id": "rNqV6UDfsE3D"
   },
   "outputs": [],
   "source": [
    "pd.to_datetime('2010/11/12')"
   ]
  },
  {
   "cell_type": "markdown",
   "metadata": {
    "colab_type": "text",
    "id": "egBiGQ42sE3E"
   },
   "source": [
    "### Sort"
   ]
  },
  {
   "cell_type": "code",
   "execution_count": null,
   "metadata": {
    "colab": {},
    "colab_type": "code",
    "id": "fgWUX1UksE3E"
   },
   "outputs": [],
   "source": [
    "df.sort_values(by='Title', ascending=True)"
   ]
  },
  {
   "cell_type": "code",
   "execution_count": null,
   "metadata": {
    "colab": {},
    "colab_type": "code",
    "id": "E7ziwjY_sE3G"
   },
   "outputs": [],
   "source": [
    "df.sort_values(by=['Director','Year'], ascending=True)"
   ]
  },
  {
   "cell_type": "markdown",
   "metadata": {
    "colab_type": "text",
    "id": "vnr3eFWosE3I"
   },
   "source": [
    "## Row manipulation"
   ]
  },
  {
   "cell_type": "markdown",
   "metadata": {
    "colab_type": "text",
    "id": "jpDR6XP4sE3J"
   },
   "source": [
    "### Row Filter"
   ]
  },
  {
   "cell_type": "code",
   "execution_count": null,
   "metadata": {
    "colab": {},
    "colab_type": "code",
    "id": "mkfq7B7VsE3J"
   },
   "outputs": [],
   "source": [
    "df[df.Title == 'Prometheus']"
   ]
  },
  {
   "cell_type": "code",
   "execution_count": null,
   "metadata": {
    "colab": {},
    "colab_type": "code",
    "id": "5fAwYdRlsE3K"
   },
   "outputs": [],
   "source": [
    "df[df.Rating >= 8.5]"
   ]
  },
  {
   "cell_type": "code",
   "execution_count": null,
   "metadata": {
    "colab": {},
    "colab_type": "code",
    "id": "FDnGiI4lsE3N"
   },
   "outputs": [],
   "source": [
    "df[(df.Year == 2016) & (df.Rating >= 8.5)]"
   ]
  },
  {
   "cell_type": "code",
   "execution_count": null,
   "metadata": {
    "colab": {},
    "colab_type": "code",
    "id": "apZKVqiBsE3O"
   },
   "outputs": [],
   "source": [
    "titel = ['Prometheus','Sing', 'Guardians of the Galaxy']\n",
    "df[df.Title.isin(titel)]"
   ]
  },
  {
   "cell_type": "code",
   "execution_count": null,
   "metadata": {
    "colab": {},
    "colab_type": "code",
    "id": "TyiA6Gw7sE3R"
   },
   "outputs": [],
   "source": [
    "years = [2010,2015,2002]\n",
    "df[df.Year.isin(years)]"
   ]
  },
  {
   "cell_type": "code",
   "execution_count": null,
   "metadata": {
    "colab": {},
    "colab_type": "code",
    "id": "uY1yzonCsE3S"
   },
   "outputs": [],
   "source": [
    "# Selects rows 1-to-3\n",
    "df.iloc[0:3]"
   ]
  },
  {
   "cell_type": "code",
   "execution_count": null,
   "metadata": {
    "colab": {},
    "colab_type": "code",
    "id": "H-N8lxtBsE3T"
   },
   "outputs": [],
   "source": [
    "# First 4 rows and first 2 columns\n",
    "df.iloc[0:4, 0:2]"
   ]
  },
  {
   "cell_type": "markdown",
   "metadata": {
    "colab_type": "text",
    "id": "Hy24-kBqsE3V"
   },
   "source": [
    "## Table Manipulation"
   ]
  },
  {
   "cell_type": "markdown",
   "metadata": {
    "colab_type": "text",
    "id": "DLSp7KOqsE3W"
   },
   "source": [
    "### Group By"
   ]
  },
  {
   "cell_type": "code",
   "execution_count": null,
   "metadata": {
    "colab": {},
    "colab_type": "code",
    "id": "Zvs6C5-JsE3W"
   },
   "outputs": [],
   "source": [
    "df.groupby(\"Year\")[\"Title\"].count().to_frame() # Anzahl Titel pro Jahr"
   ]
  },
  {
   "cell_type": "code",
   "execution_count": null,
   "metadata": {
    "colab": {},
    "colab_type": "code",
    "id": "myYAiyKPsE3X"
   },
   "outputs": [],
   "source": [
    "df.groupby([\"Year\",\"Director\"])[\"Title\"].count().to_frame().reset_index() # Anzahl Titel pro Jahr und pro Director"
   ]
  },
  {
   "cell_type": "code",
   "execution_count": null,
   "metadata": {
    "colab": {},
    "colab_type": "code",
    "id": "FEeTVXXYsE3Z"
   },
   "outputs": [],
   "source": [
    "df.groupby([\"Director\"])[\"Title\"].count().to_frame(name = 'count').reset_index() # Anzahl Titel pro Director -> in DataFrame"
   ]
  },
  {
   "cell_type": "code",
   "execution_count": null,
   "metadata": {
    "colab": {},
    "colab_type": "code",
    "id": "QYeSanH3sE3b"
   },
   "outputs": [],
   "source": [
    "df.groupby([\"Year\",\"Director\"])[\"Revenue (Millions)\"].sum().to_frame().reset_index() # Total Revenue pro Jahr und pro Director"
   ]
  },
  {
   "cell_type": "code",
   "execution_count": null,
   "metadata": {
    "colab": {},
    "colab_type": "code",
    "id": "Upr1wVs8sE3c"
   },
   "outputs": [],
   "source": [
    "df.groupby(\"Director\")[\"Rating\"].mean().to_frame().reset_index() # Rating-Mean pro Director"
   ]
  },
  {
   "cell_type": "code",
   "execution_count": null,
   "metadata": {
    "colab": {},
    "colab_type": "code",
    "id": "njMJXMLWsE3d"
   },
   "outputs": [],
   "source": [
    "df.groupby(\"Director\")[\"Rating\",\"Runtime (Minutes)\"].mean() # Rating-Mean pro Director"
   ]
  },
  {
   "cell_type": "code",
   "execution_count": null,
   "metadata": {
    "colab": {},
    "colab_type": "code",
    "id": "0TIrYybDsE3f"
   },
   "outputs": [],
   "source": [
    "df.groupby([\"Year\",\"Director\"]).agg(\n",
    "    {\n",
    "         'Title':\"count\",  # Anzahl Titel pro Jahr und pro Director\n",
    "         'Rating':\"mean\",  # Rating-Mean pro Director\n",
    "         'Revenue (Millions)': \"sum\"  # Total Revenue pro Jahr und pro Director\n",
    "    }\n",
    ").reset_index() "
   ]
  },
  {
   "cell_type": "markdown",
   "metadata": {
    "colab_type": "text",
    "id": "FZ_lH4DbsE3g"
   },
   "source": [
    "### Pivot / Unpivot"
   ]
  },
  {
   "cell_type": "code",
   "execution_count": null,
   "metadata": {
    "colab": {},
    "colab_type": "code",
    "id": "IZiBo0A_sE3g"
   },
   "outputs": [],
   "source": [
    "# Pivot\n",
    "pd.pivot_table(df,index=[\"Director\"]).reset_index()"
   ]
  },
  {
   "cell_type": "code",
   "execution_count": null,
   "metadata": {
    "colab": {},
    "colab_type": "code",
    "id": "qTr9hN-MsE3h"
   },
   "outputs": [],
   "source": [
    "# Pivot\n",
    "df4 = pd.pivot_table(df,index=[\"Director\",\"Year\"],values=[\"Revenue (Millions)\"],aggfunc=np.sum).reset_index()\n",
    "df4"
   ]
  },
  {
   "cell_type": "code",
   "execution_count": null,
   "metadata": {
    "colab": {},
    "colab_type": "code",
    "id": "xpZqLmicsE3i"
   },
   "outputs": [],
   "source": [
    "# Unpivot\n",
    "df4 = pd.pivot_table(df,values=['Rating'], columns=['Year']).reset_index()\n",
    "df4"
   ]
  },
  {
   "cell_type": "code",
   "execution_count": null,
   "metadata": {
    "colab": {},
    "colab_type": "code",
    "id": "itkzSqwfsE3k"
   },
   "outputs": [],
   "source": [
    "df4.melt(id_vars=['index'],var_name='Year',value_name='Title')"
   ]
  },
  {
   "cell_type": "markdown",
   "metadata": {
    "colab_type": "text",
    "id": "VzFV8lOMsE3m"
   },
   "source": [
    "### Join"
   ]
  },
  {
   "cell_type": "code",
   "execution_count": null,
   "metadata": {
    "colab": {},
    "colab_type": "code",
    "id": "OJfF97B1sE3m"
   },
   "outputs": [],
   "source": [
    "# join df with df3\n",
    "df3 = df.groupby([\"Director\"])[\"Title\"].count().to_frame(name = 'count').reset_index() \n",
    "\n",
    "pd.merge(df,df3[['Director','count']], left_on=['Director'], right_on=['Director'],how = 'left') # how = rigtht, left, inner, outer\n"
   ]
  },
  {
   "cell_type": "markdown",
   "metadata": {
    "colab_type": "text",
    "id": "xl7jKx5nsE3n"
   },
   "source": [
    "### Concat"
   ]
  },
  {
   "cell_type": "code",
   "execution_count": null,
   "metadata": {
    "colab": {},
    "colab_type": "code",
    "id": "OzGbbddisE3n"
   },
   "outputs": [],
   "source": [
    "df.append(df2) # df2 an df anhängen. Columns müssen gleich sein"
   ]
  },
  {
   "cell_type": "code",
   "execution_count": null,
   "metadata": {
    "colab": {},
    "colab_type": "code",
    "id": "FhmVi5xasE3o"
   },
   "outputs": [],
   "source": [
    "pd.concat([df, df2],axis=0) # concat von zwei DataFrames"
   ]
  }
 ],
 "metadata": {
  "colab": {
   "name": "Cheat_Sheet.ipynb",
   "provenance": [],
   "toc_visible": true
  },
  "kernelspec": {
   "display_name": "Python 3 (ipykernel)",
   "language": "python",
   "name": "python3"
  },
  "language_info": {
   "codemirror_mode": {
    "name": "ipython",
    "version": 3
   },
   "file_extension": ".py",
   "mimetype": "text/x-python",
   "name": "python",
   "nbconvert_exporter": "python",
   "pygments_lexer": "ipython3",
   "version": "3.9.7"
  },
  "toc": {
   "base_numbering": 1,
   "nav_menu": {},
   "number_sections": false,
   "sideBar": true,
   "skip_h1_title": false,
   "title_cell": "Table of Contents",
   "title_sidebar": "Contents",
   "toc_cell": false,
   "toc_position": {
    "height": "calc(100% - 180px)",
    "left": "10px",
    "top": "150px",
    "width": "196px"
   },
   "toc_section_display": true,
   "toc_window_display": true
  }
 },
 "nbformat": 4,
 "nbformat_minor": 1
}
